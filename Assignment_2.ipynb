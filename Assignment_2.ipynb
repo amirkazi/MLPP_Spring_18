{
 "cells": [
  {
   "cell_type": "code",
   "execution_count": 247,
   "metadata": {},
   "outputs": [],
   "source": [
    "import pandas as pd\n",
    "import numpy as np\n",
    "import matplotlib.pyplot as plt\n",
    "from sklearn import preprocessing, cross_validation\n",
    "from sklearn.linear_model import LinearRegression\n",
    "import seaborn as sns; sns.set()\n",
    "from sklearn import linear_model\n",
    "from sklearn.model_selection import train_test_split\n",
    "from sklearn.feature_selection import SelectKBest, f_classif\n",
    "from sklearn.metrics import accuracy_score\n",
    "\n",
    "%matplotlib inline\n"
   ]
  },
  {
   "cell_type": "markdown",
   "metadata": {
    "collapsed": true
   },
   "source": [
    "### READING DATA FILE"
   ]
  },
  {
   "cell_type": "code",
   "execution_count": 288,
   "metadata": {
    "collapsed": true
   },
   "outputs": [],
   "source": [
    "def reading_csv (filename, index):\n",
    "    '''\n",
    "    Given the name of the file and index column, reads the csv file,\n",
    "        and used the index as the index_column\n",
    "        \n",
    "    input:\n",
    "        filename: string\n",
    "        index: string\n",
    "        \n",
    "    returns: dataframe\n",
    "    '''\n",
    "    return pd.read_csv (filename, index_col = index)"
   ]
  },
  {
   "cell_type": "code",
   "execution_count": 249,
   "metadata": {
    "collapsed": true
   },
   "outputs": [],
   "source": [
    "file_name = 'credit-data.csv'\n",
    "index_col = 'PersonID'\n",
    "df = reading_csv (file_name, index_col)"
   ]
  },
  {
   "cell_type": "markdown",
   "metadata": {
    "collapsed": true
   },
   "source": [
    "### EXPLORING DATA"
   ]
  },
  {
   "cell_type": "code",
   "execution_count": 250,
   "metadata": {
    "collapsed": true
   },
   "outputs": [],
   "source": [
    "# Person experienced 90 days past due delinquency or worse \n",
    "positive_df = df[df['SeriousDlqin2yrs'] == 1]"
   ]
  },
  {
   "cell_type": "code",
   "execution_count": 251,
   "metadata": {
    "collapsed": true
   },
   "outputs": [],
   "source": [
    "# Person did NOT experience 90 days past due delinquency or worse \n",
    "negative_df = df[df['SeriousDlqin2yrs'] == 0]"
   ]
  },
  {
   "cell_type": "code",
   "execution_count": 252,
   "metadata": {
    "scrolled": true
   },
   "outputs": [
    {
     "data": {
      "text/html": [
       "<div>\n",
       "<style scoped>\n",
       "    .dataframe tbody tr th:only-of-type {\n",
       "        vertical-align: middle;\n",
       "    }\n",
       "\n",
       "    .dataframe tbody tr th {\n",
       "        vertical-align: top;\n",
       "    }\n",
       "\n",
       "    .dataframe thead th {\n",
       "        text-align: right;\n",
       "    }\n",
       "</style>\n",
       "<table border=\"1\" class=\"dataframe\">\n",
       "  <thead>\n",
       "    <tr style=\"text-align: right;\">\n",
       "      <th></th>\n",
       "      <th>SeriousDlqin2yrs</th>\n",
       "      <th>RevolvingUtilizationOfUnsecuredLines</th>\n",
       "      <th>age</th>\n",
       "      <th>zipcode</th>\n",
       "      <th>NumberOfTime30-59DaysPastDueNotWorse</th>\n",
       "      <th>DebtRatio</th>\n",
       "      <th>MonthlyIncome</th>\n",
       "      <th>NumberOfOpenCreditLinesAndLoans</th>\n",
       "      <th>NumberOfTimes90DaysLate</th>\n",
       "      <th>NumberRealEstateLoansOrLines</th>\n",
       "      <th>NumberOfTime60-89DaysPastDueNotWorse</th>\n",
       "      <th>NumberOfDependents</th>\n",
       "    </tr>\n",
       "    <tr>\n",
       "      <th>PersonID</th>\n",
       "      <th></th>\n",
       "      <th></th>\n",
       "      <th></th>\n",
       "      <th></th>\n",
       "      <th></th>\n",
       "      <th></th>\n",
       "      <th></th>\n",
       "      <th></th>\n",
       "      <th></th>\n",
       "      <th></th>\n",
       "      <th></th>\n",
       "      <th></th>\n",
       "    </tr>\n",
       "  </thead>\n",
       "  <tbody>\n",
       "    <tr>\n",
       "      <th>98976</th>\n",
       "      <td>0</td>\n",
       "      <td>1.000000</td>\n",
       "      <td>55</td>\n",
       "      <td>60601</td>\n",
       "      <td>0</td>\n",
       "      <td>505.000000</td>\n",
       "      <td>0.0</td>\n",
       "      <td>2</td>\n",
       "      <td>0</td>\n",
       "      <td>0</td>\n",
       "      <td>0</td>\n",
       "      <td>0.0</td>\n",
       "    </tr>\n",
       "    <tr>\n",
       "      <th>98991</th>\n",
       "      <td>0</td>\n",
       "      <td>0.547745</td>\n",
       "      <td>71</td>\n",
       "      <td>60601</td>\n",
       "      <td>0</td>\n",
       "      <td>0.459565</td>\n",
       "      <td>15666.0</td>\n",
       "      <td>7</td>\n",
       "      <td>0</td>\n",
       "      <td>2</td>\n",
       "      <td>0</td>\n",
       "      <td>0.0</td>\n",
       "    </tr>\n",
       "    <tr>\n",
       "      <th>99012</th>\n",
       "      <td>0</td>\n",
       "      <td>0.044280</td>\n",
       "      <td>51</td>\n",
       "      <td>60601</td>\n",
       "      <td>0</td>\n",
       "      <td>0.014520</td>\n",
       "      <td>4200.0</td>\n",
       "      <td>5</td>\n",
       "      <td>0</td>\n",
       "      <td>0</td>\n",
       "      <td>0</td>\n",
       "      <td>0.0</td>\n",
       "    </tr>\n",
       "    <tr>\n",
       "      <th>99023</th>\n",
       "      <td>0</td>\n",
       "      <td>0.914249</td>\n",
       "      <td>55</td>\n",
       "      <td>60601</td>\n",
       "      <td>4</td>\n",
       "      <td>0.794875</td>\n",
       "      <td>9052.0</td>\n",
       "      <td>12</td>\n",
       "      <td>0</td>\n",
       "      <td>3</td>\n",
       "      <td>0</td>\n",
       "      <td>0.0</td>\n",
       "    </tr>\n",
       "    <tr>\n",
       "      <th>99027</th>\n",
       "      <td>0</td>\n",
       "      <td>0.026599</td>\n",
       "      <td>45</td>\n",
       "      <td>60601</td>\n",
       "      <td>0</td>\n",
       "      <td>0.049966</td>\n",
       "      <td>10406.0</td>\n",
       "      <td>4</td>\n",
       "      <td>0</td>\n",
       "      <td>0</td>\n",
       "      <td>0</td>\n",
       "      <td>2.0</td>\n",
       "    </tr>\n",
       "  </tbody>\n",
       "</table>\n",
       "</div>"
      ],
      "text/plain": [
       "          SeriousDlqin2yrs  RevolvingUtilizationOfUnsecuredLines  age  \\\n",
       "PersonID                                                                \n",
       "98976                    0                              1.000000   55   \n",
       "98991                    0                              0.547745   71   \n",
       "99012                    0                              0.044280   51   \n",
       "99023                    0                              0.914249   55   \n",
       "99027                    0                              0.026599   45   \n",
       "\n",
       "          zipcode  NumberOfTime30-59DaysPastDueNotWorse   DebtRatio  \\\n",
       "PersonID                                                              \n",
       "98976       60601                                     0  505.000000   \n",
       "98991       60601                                     0    0.459565   \n",
       "99012       60601                                     0    0.014520   \n",
       "99023       60601                                     4    0.794875   \n",
       "99027       60601                                     0    0.049966   \n",
       "\n",
       "          MonthlyIncome  NumberOfOpenCreditLinesAndLoans  \\\n",
       "PersonID                                                   \n",
       "98976               0.0                                2   \n",
       "98991           15666.0                                7   \n",
       "99012            4200.0                                5   \n",
       "99023            9052.0                               12   \n",
       "99027           10406.0                                4   \n",
       "\n",
       "          NumberOfTimes90DaysLate  NumberRealEstateLoansOrLines  \\\n",
       "PersonID                                                          \n",
       "98976                           0                             0   \n",
       "98991                           0                             2   \n",
       "99012                           0                             0   \n",
       "99023                           0                             3   \n",
       "99027                           0                             0   \n",
       "\n",
       "          NumberOfTime60-89DaysPastDueNotWorse  NumberOfDependents  \n",
       "PersonID                                                            \n",
       "98976                                        0                 0.0  \n",
       "98991                                        0                 0.0  \n",
       "99012                                        0                 0.0  \n",
       "99023                                        0                 0.0  \n",
       "99027                                        0                 2.0  "
      ]
     },
     "execution_count": 252,
     "metadata": {},
     "output_type": "execute_result"
    }
   ],
   "source": [
    "df.head()"
   ]
  },
  {
   "cell_type": "code",
   "execution_count": 253,
   "metadata": {},
   "outputs": [
    {
     "data": {
      "text/html": [
       "<div>\n",
       "<style scoped>\n",
       "    .dataframe tbody tr th:only-of-type {\n",
       "        vertical-align: middle;\n",
       "    }\n",
       "\n",
       "    .dataframe tbody tr th {\n",
       "        vertical-align: top;\n",
       "    }\n",
       "\n",
       "    .dataframe thead th {\n",
       "        text-align: right;\n",
       "    }\n",
       "</style>\n",
       "<table border=\"1\" class=\"dataframe\">\n",
       "  <thead>\n",
       "    <tr style=\"text-align: right;\">\n",
       "      <th></th>\n",
       "      <th>SeriousDlqin2yrs</th>\n",
       "      <th>RevolvingUtilizationOfUnsecuredLines</th>\n",
       "      <th>age</th>\n",
       "      <th>zipcode</th>\n",
       "      <th>NumberOfTime30-59DaysPastDueNotWorse</th>\n",
       "      <th>DebtRatio</th>\n",
       "      <th>MonthlyIncome</th>\n",
       "      <th>NumberOfOpenCreditLinesAndLoans</th>\n",
       "      <th>NumberOfTimes90DaysLate</th>\n",
       "      <th>NumberRealEstateLoansOrLines</th>\n",
       "      <th>NumberOfTime60-89DaysPastDueNotWorse</th>\n",
       "      <th>NumberOfDependents</th>\n",
       "    </tr>\n",
       "    <tr>\n",
       "      <th>PersonID</th>\n",
       "      <th></th>\n",
       "      <th></th>\n",
       "      <th></th>\n",
       "      <th></th>\n",
       "      <th></th>\n",
       "      <th></th>\n",
       "      <th></th>\n",
       "      <th></th>\n",
       "      <th></th>\n",
       "      <th></th>\n",
       "      <th></th>\n",
       "      <th></th>\n",
       "    </tr>\n",
       "  </thead>\n",
       "  <tbody>\n",
       "    <tr>\n",
       "      <th>123722</th>\n",
       "      <td>0</td>\n",
       "      <td>0.311360</td>\n",
       "      <td>48</td>\n",
       "      <td>60644</td>\n",
       "      <td>0</td>\n",
       "      <td>0.382311</td>\n",
       "      <td>4872.0</td>\n",
       "      <td>11</td>\n",
       "      <td>0</td>\n",
       "      <td>2</td>\n",
       "      <td>0</td>\n",
       "      <td>3.0</td>\n",
       "    </tr>\n",
       "    <tr>\n",
       "      <th>123729</th>\n",
       "      <td>0</td>\n",
       "      <td>0.038810</td>\n",
       "      <td>45</td>\n",
       "      <td>60644</td>\n",
       "      <td>0</td>\n",
       "      <td>0.156130</td>\n",
       "      <td>6500.0</td>\n",
       "      <td>13</td>\n",
       "      <td>0</td>\n",
       "      <td>1</td>\n",
       "      <td>0</td>\n",
       "      <td>3.0</td>\n",
       "    </tr>\n",
       "    <tr>\n",
       "      <th>123730</th>\n",
       "      <td>0</td>\n",
       "      <td>0.007576</td>\n",
       "      <td>74</td>\n",
       "      <td>60644</td>\n",
       "      <td>0</td>\n",
       "      <td>14.000000</td>\n",
       "      <td>NaN</td>\n",
       "      <td>9</td>\n",
       "      <td>0</td>\n",
       "      <td>0</td>\n",
       "      <td>0</td>\n",
       "      <td>0.0</td>\n",
       "    </tr>\n",
       "    <tr>\n",
       "      <th>123739</th>\n",
       "      <td>0</td>\n",
       "      <td>0.052153</td>\n",
       "      <td>72</td>\n",
       "      <td>60644</td>\n",
       "      <td>0</td>\n",
       "      <td>382.000000</td>\n",
       "      <td>NaN</td>\n",
       "      <td>8</td>\n",
       "      <td>0</td>\n",
       "      <td>0</td>\n",
       "      <td>0</td>\n",
       "      <td>0.0</td>\n",
       "    </tr>\n",
       "    <tr>\n",
       "      <th>123753</th>\n",
       "      <td>0</td>\n",
       "      <td>1.368872</td>\n",
       "      <td>60</td>\n",
       "      <td>60644</td>\n",
       "      <td>0</td>\n",
       "      <td>0.039417</td>\n",
       "      <td>3500.0</td>\n",
       "      <td>5</td>\n",
       "      <td>3</td>\n",
       "      <td>0</td>\n",
       "      <td>1</td>\n",
       "      <td>0.0</td>\n",
       "    </tr>\n",
       "  </tbody>\n",
       "</table>\n",
       "</div>"
      ],
      "text/plain": [
       "          SeriousDlqin2yrs  RevolvingUtilizationOfUnsecuredLines  age  \\\n",
       "PersonID                                                                \n",
       "123722                   0                              0.311360   48   \n",
       "123729                   0                              0.038810   45   \n",
       "123730                   0                              0.007576   74   \n",
       "123739                   0                              0.052153   72   \n",
       "123753                   0                              1.368872   60   \n",
       "\n",
       "          zipcode  NumberOfTime30-59DaysPastDueNotWorse   DebtRatio  \\\n",
       "PersonID                                                              \n",
       "123722      60644                                     0    0.382311   \n",
       "123729      60644                                     0    0.156130   \n",
       "123730      60644                                     0   14.000000   \n",
       "123739      60644                                     0  382.000000   \n",
       "123753      60644                                     0    0.039417   \n",
       "\n",
       "          MonthlyIncome  NumberOfOpenCreditLinesAndLoans  \\\n",
       "PersonID                                                   \n",
       "123722           4872.0                               11   \n",
       "123729           6500.0                               13   \n",
       "123730              NaN                                9   \n",
       "123739              NaN                                8   \n",
       "123753           3500.0                                5   \n",
       "\n",
       "          NumberOfTimes90DaysLate  NumberRealEstateLoansOrLines  \\\n",
       "PersonID                                                          \n",
       "123722                          0                             2   \n",
       "123729                          0                             1   \n",
       "123730                          0                             0   \n",
       "123739                          0                             0   \n",
       "123753                          3                             0   \n",
       "\n",
       "          NumberOfTime60-89DaysPastDueNotWorse  NumberOfDependents  \n",
       "PersonID                                                            \n",
       "123722                                       0                 3.0  \n",
       "123729                                       0                 3.0  \n",
       "123730                                       0                 0.0  \n",
       "123739                                       0                 0.0  \n",
       "123753                                       1                 0.0  "
      ]
     },
     "execution_count": 253,
     "metadata": {},
     "output_type": "execute_result"
    }
   ],
   "source": [
    "df.tail()"
   ]
  },
  {
   "cell_type": "code",
   "execution_count": 254,
   "metadata": {},
   "outputs": [
    {
     "data": {
      "text/plain": [
       "Index(['SeriousDlqin2yrs', 'RevolvingUtilizationOfUnsecuredLines', 'age',\n",
       "       'zipcode', 'NumberOfTime30-59DaysPastDueNotWorse', 'DebtRatio',\n",
       "       'MonthlyIncome', 'NumberOfOpenCreditLinesAndLoans',\n",
       "       'NumberOfTimes90DaysLate', 'NumberRealEstateLoansOrLines',\n",
       "       'NumberOfTime60-89DaysPastDueNotWorse', 'NumberOfDependents'],\n",
       "      dtype='object')"
      ]
     },
     "execution_count": 254,
     "metadata": {},
     "output_type": "execute_result"
    }
   ],
   "source": [
    "df.columns"
   ]
  },
  {
   "cell_type": "code",
   "execution_count": 255,
   "metadata": {},
   "outputs": [
    {
     "data": {
      "text/plain": [
       "(41016, 12)"
      ]
     },
     "execution_count": 255,
     "metadata": {},
     "output_type": "execute_result"
    }
   ],
   "source": [
    "df.shape"
   ]
  },
  {
   "cell_type": "code",
   "execution_count": 256,
   "metadata": {},
   "outputs": [
    {
     "name": "stdout",
     "output_type": "stream",
     "text": [
      "<class 'pandas.core.frame.DataFrame'>\n",
      "Int64Index: 41016 entries, 98976 to 123753\n",
      "Data columns (total 12 columns):\n",
      "SeriousDlqin2yrs                        41016 non-null int64\n",
      "RevolvingUtilizationOfUnsecuredLines    41016 non-null float64\n",
      "age                                     41016 non-null int64\n",
      "zipcode                                 41016 non-null int64\n",
      "NumberOfTime30-59DaysPastDueNotWorse    41016 non-null int64\n",
      "DebtRatio                               41016 non-null float64\n",
      "MonthlyIncome                           33042 non-null float64\n",
      "NumberOfOpenCreditLinesAndLoans         41016 non-null int64\n",
      "NumberOfTimes90DaysLate                 41016 non-null int64\n",
      "NumberRealEstateLoansOrLines            41016 non-null int64\n",
      "NumberOfTime60-89DaysPastDueNotWorse    41016 non-null int64\n",
      "NumberOfDependents                      39979 non-null float64\n",
      "dtypes: float64(4), int64(8)\n",
      "memory usage: 4.1 MB\n"
     ]
    }
   ],
   "source": [
    "df.info()"
   ]
  },
  {
   "cell_type": "code",
   "execution_count": 257,
   "metadata": {},
   "outputs": [
    {
     "data": {
      "text/html": [
       "<div>\n",
       "<style scoped>\n",
       "    .dataframe tbody tr th:only-of-type {\n",
       "        vertical-align: middle;\n",
       "    }\n",
       "\n",
       "    .dataframe tbody tr th {\n",
       "        vertical-align: top;\n",
       "    }\n",
       "\n",
       "    .dataframe thead th {\n",
       "        text-align: right;\n",
       "    }\n",
       "</style>\n",
       "<table border=\"1\" class=\"dataframe\">\n",
       "  <thead>\n",
       "    <tr style=\"text-align: right;\">\n",
       "      <th></th>\n",
       "      <th>SeriousDlqin2yrs</th>\n",
       "      <th>RevolvingUtilizationOfUnsecuredLines</th>\n",
       "      <th>age</th>\n",
       "      <th>zipcode</th>\n",
       "      <th>NumberOfTime30-59DaysPastDueNotWorse</th>\n",
       "      <th>DebtRatio</th>\n",
       "      <th>MonthlyIncome</th>\n",
       "      <th>NumberOfOpenCreditLinesAndLoans</th>\n",
       "      <th>NumberOfTimes90DaysLate</th>\n",
       "      <th>NumberRealEstateLoansOrLines</th>\n",
       "      <th>NumberOfTime60-89DaysPastDueNotWorse</th>\n",
       "      <th>NumberOfDependents</th>\n",
       "    </tr>\n",
       "  </thead>\n",
       "  <tbody>\n",
       "    <tr>\n",
       "      <th>count</th>\n",
       "      <td>41016.000000</td>\n",
       "      <td>41016.00000</td>\n",
       "      <td>41016.000000</td>\n",
       "      <td>41016.000000</td>\n",
       "      <td>41016.000000</td>\n",
       "      <td>41016.000000</td>\n",
       "      <td>3.304200e+04</td>\n",
       "      <td>41016.000000</td>\n",
       "      <td>41016.000000</td>\n",
       "      <td>41016.000000</td>\n",
       "      <td>41016.000000</td>\n",
       "      <td>39979.000000</td>\n",
       "    </tr>\n",
       "    <tr>\n",
       "      <th>mean</th>\n",
       "      <td>0.161400</td>\n",
       "      <td>6.37587</td>\n",
       "      <td>51.683489</td>\n",
       "      <td>60623.824166</td>\n",
       "      <td>0.589233</td>\n",
       "      <td>331.458137</td>\n",
       "      <td>6.578996e+03</td>\n",
       "      <td>8.403477</td>\n",
       "      <td>0.419592</td>\n",
       "      <td>1.008801</td>\n",
       "      <td>0.371587</td>\n",
       "      <td>0.773231</td>\n",
       "    </tr>\n",
       "    <tr>\n",
       "      <th>std</th>\n",
       "      <td>0.367904</td>\n",
       "      <td>221.61895</td>\n",
       "      <td>14.746880</td>\n",
       "      <td>11.984357</td>\n",
       "      <td>5.205628</td>\n",
       "      <td>1296.109695</td>\n",
       "      <td>1.344683e+04</td>\n",
       "      <td>5.207324</td>\n",
       "      <td>5.190382</td>\n",
       "      <td>1.153826</td>\n",
       "      <td>5.169641</td>\n",
       "      <td>1.121269</td>\n",
       "    </tr>\n",
       "    <tr>\n",
       "      <th>min</th>\n",
       "      <td>0.000000</td>\n",
       "      <td>0.00000</td>\n",
       "      <td>21.000000</td>\n",
       "      <td>60601.000000</td>\n",
       "      <td>0.000000</td>\n",
       "      <td>0.000000</td>\n",
       "      <td>0.000000e+00</td>\n",
       "      <td>0.000000</td>\n",
       "      <td>0.000000</td>\n",
       "      <td>0.000000</td>\n",
       "      <td>0.000000</td>\n",
       "      <td>0.000000</td>\n",
       "    </tr>\n",
       "    <tr>\n",
       "      <th>25%</th>\n",
       "      <td>0.000000</td>\n",
       "      <td>0.03431</td>\n",
       "      <td>41.000000</td>\n",
       "      <td>60618.000000</td>\n",
       "      <td>0.000000</td>\n",
       "      <td>0.176375</td>\n",
       "      <td>3.333000e+03</td>\n",
       "      <td>5.000000</td>\n",
       "      <td>0.000000</td>\n",
       "      <td>0.000000</td>\n",
       "      <td>0.000000</td>\n",
       "      <td>0.000000</td>\n",
       "    </tr>\n",
       "    <tr>\n",
       "      <th>50%</th>\n",
       "      <td>0.000000</td>\n",
       "      <td>0.18973</td>\n",
       "      <td>51.000000</td>\n",
       "      <td>60625.000000</td>\n",
       "      <td>0.000000</td>\n",
       "      <td>0.369736</td>\n",
       "      <td>5.250000e+03</td>\n",
       "      <td>8.000000</td>\n",
       "      <td>0.000000</td>\n",
       "      <td>1.000000</td>\n",
       "      <td>0.000000</td>\n",
       "      <td>0.000000</td>\n",
       "    </tr>\n",
       "    <tr>\n",
       "      <th>75%</th>\n",
       "      <td>0.000000</td>\n",
       "      <td>0.66716</td>\n",
       "      <td>62.000000</td>\n",
       "      <td>60629.000000</td>\n",
       "      <td>0.000000</td>\n",
       "      <td>0.866471</td>\n",
       "      <td>8.055750e+03</td>\n",
       "      <td>11.000000</td>\n",
       "      <td>0.000000</td>\n",
       "      <td>2.000000</td>\n",
       "      <td>0.000000</td>\n",
       "      <td>1.000000</td>\n",
       "    </tr>\n",
       "    <tr>\n",
       "      <th>max</th>\n",
       "      <td>1.000000</td>\n",
       "      <td>22000.00000</td>\n",
       "      <td>109.000000</td>\n",
       "      <td>60644.000000</td>\n",
       "      <td>98.000000</td>\n",
       "      <td>106885.000000</td>\n",
       "      <td>1.794060e+06</td>\n",
       "      <td>56.000000</td>\n",
       "      <td>98.000000</td>\n",
       "      <td>32.000000</td>\n",
       "      <td>98.000000</td>\n",
       "      <td>13.000000</td>\n",
       "    </tr>\n",
       "  </tbody>\n",
       "</table>\n",
       "</div>"
      ],
      "text/plain": [
       "       SeriousDlqin2yrs  RevolvingUtilizationOfUnsecuredLines           age  \\\n",
       "count      41016.000000                           41016.00000  41016.000000   \n",
       "mean           0.161400                               6.37587     51.683489   \n",
       "std            0.367904                             221.61895     14.746880   \n",
       "min            0.000000                               0.00000     21.000000   \n",
       "25%            0.000000                               0.03431     41.000000   \n",
       "50%            0.000000                               0.18973     51.000000   \n",
       "75%            0.000000                               0.66716     62.000000   \n",
       "max            1.000000                           22000.00000    109.000000   \n",
       "\n",
       "            zipcode  NumberOfTime30-59DaysPastDueNotWorse      DebtRatio  \\\n",
       "count  41016.000000                          41016.000000   41016.000000   \n",
       "mean   60623.824166                              0.589233     331.458137   \n",
       "std       11.984357                              5.205628    1296.109695   \n",
       "min    60601.000000                              0.000000       0.000000   \n",
       "25%    60618.000000                              0.000000       0.176375   \n",
       "50%    60625.000000                              0.000000       0.369736   \n",
       "75%    60629.000000                              0.000000       0.866471   \n",
       "max    60644.000000                             98.000000  106885.000000   \n",
       "\n",
       "       MonthlyIncome  NumberOfOpenCreditLinesAndLoans  \\\n",
       "count   3.304200e+04                     41016.000000   \n",
       "mean    6.578996e+03                         8.403477   \n",
       "std     1.344683e+04                         5.207324   \n",
       "min     0.000000e+00                         0.000000   \n",
       "25%     3.333000e+03                         5.000000   \n",
       "50%     5.250000e+03                         8.000000   \n",
       "75%     8.055750e+03                        11.000000   \n",
       "max     1.794060e+06                        56.000000   \n",
       "\n",
       "       NumberOfTimes90DaysLate  NumberRealEstateLoansOrLines  \\\n",
       "count             41016.000000                  41016.000000   \n",
       "mean                  0.419592                      1.008801   \n",
       "std                   5.190382                      1.153826   \n",
       "min                   0.000000                      0.000000   \n",
       "25%                   0.000000                      0.000000   \n",
       "50%                   0.000000                      1.000000   \n",
       "75%                   0.000000                      2.000000   \n",
       "max                  98.000000                     32.000000   \n",
       "\n",
       "       NumberOfTime60-89DaysPastDueNotWorse  NumberOfDependents  \n",
       "count                          41016.000000        39979.000000  \n",
       "mean                               0.371587            0.773231  \n",
       "std                                5.169641            1.121269  \n",
       "min                                0.000000            0.000000  \n",
       "25%                                0.000000            0.000000  \n",
       "50%                                0.000000            0.000000  \n",
       "75%                                0.000000            1.000000  \n",
       "max                               98.000000           13.000000  "
      ]
     },
     "execution_count": 257,
     "metadata": {},
     "output_type": "execute_result"
    }
   ],
   "source": [
    "df.describe()"
   ]
  },
  {
   "cell_type": "code",
   "execution_count": 289,
   "metadata": {},
   "outputs": [
    {
     "data": {
      "text/html": [
       "<div>\n",
       "<style scoped>\n",
       "    .dataframe tbody tr th:only-of-type {\n",
       "        vertical-align: middle;\n",
       "    }\n",
       "\n",
       "    .dataframe tbody tr th {\n",
       "        vertical-align: top;\n",
       "    }\n",
       "\n",
       "    .dataframe thead th {\n",
       "        text-align: right;\n",
       "    }\n",
       "</style>\n",
       "<table border=\"1\" class=\"dataframe\">\n",
       "  <thead>\n",
       "    <tr style=\"text-align: right;\">\n",
       "      <th>SeriousDlqin2yrs</th>\n",
       "      <th>0</th>\n",
       "      <th>1</th>\n",
       "    </tr>\n",
       "  </thead>\n",
       "  <tbody>\n",
       "    <tr>\n",
       "      <th>RevolvingUtilizationOfUnsecuredLines</th>\n",
       "      <td>6.821758</td>\n",
       "      <td>4.059138</td>\n",
       "    </tr>\n",
       "    <tr>\n",
       "      <th>age</th>\n",
       "      <td>52.807419</td>\n",
       "      <td>45.843807</td>\n",
       "    </tr>\n",
       "    <tr>\n",
       "      <th>zipcode</th>\n",
       "      <td>60624.061025</td>\n",
       "      <td>60622.593505</td>\n",
       "    </tr>\n",
       "    <tr>\n",
       "      <th>NumberOfTime30-59DaysPastDueNotWorse</th>\n",
       "      <td>0.248197</td>\n",
       "      <td>2.361178</td>\n",
       "    </tr>\n",
       "    <tr>\n",
       "      <th>DebtRatio</th>\n",
       "      <td>339.135574</td>\n",
       "      <td>291.567939</td>\n",
       "    </tr>\n",
       "    <tr>\n",
       "      <th>MonthlyIncome</th>\n",
       "      <td>6737.181609</td>\n",
       "      <td>5757.098239</td>\n",
       "    </tr>\n",
       "    <tr>\n",
       "      <th>NumberOfOpenCreditLinesAndLoans</th>\n",
       "      <td>8.494621</td>\n",
       "      <td>7.929909</td>\n",
       "    </tr>\n",
       "    <tr>\n",
       "      <th>NumberOfTimes90DaysLate</th>\n",
       "      <td>0.101698</td>\n",
       "      <td>2.071299</td>\n",
       "    </tr>\n",
       "    <tr>\n",
       "      <th>NumberRealEstateLoansOrLines</th>\n",
       "      <td>1.014188</td>\n",
       "      <td>0.980816</td>\n",
       "    </tr>\n",
       "    <tr>\n",
       "      <th>NumberOfTime60-89DaysPastDueNotWorse</th>\n",
       "      <td>0.095156</td>\n",
       "      <td>1.807855</td>\n",
       "    </tr>\n",
       "    <tr>\n",
       "      <th>NumberOfDependents</th>\n",
       "      <td>0.741635</td>\n",
       "      <td>0.937396</td>\n",
       "    </tr>\n",
       "  </tbody>\n",
       "</table>\n",
       "</div>"
      ],
      "text/plain": [
       "SeriousDlqin2yrs                                 0             1\n",
       "RevolvingUtilizationOfUnsecuredLines      6.821758      4.059138\n",
       "age                                      52.807419     45.843807\n",
       "zipcode                               60624.061025  60622.593505\n",
       "NumberOfTime30-59DaysPastDueNotWorse      0.248197      2.361178\n",
       "DebtRatio                               339.135574    291.567939\n",
       "MonthlyIncome                          6737.181609   5757.098239\n",
       "NumberOfOpenCreditLinesAndLoans           8.494621      7.929909\n",
       "NumberOfTimes90DaysLate                   0.101698      2.071299\n",
       "NumberRealEstateLoansOrLines              1.014188      0.980816\n",
       "NumberOfTime60-89DaysPastDueNotWorse      0.095156      1.807855\n",
       "NumberOfDependents                        0.741635      0.937396"
      ]
     },
     "execution_count": 289,
     "metadata": {},
     "output_type": "execute_result"
    }
   ],
   "source": [
    "df.groupby(\"SeriousDlqin2yrs\").mean().transpose()\n",
    "# Gives difference between those who were SeriousDlqin2yrs and those who were not."
   ]
  },
  {
   "cell_type": "markdown",
   "metadata": {},
   "source": [
    "Those who were positive:\n",
    "    - had a lower age: mean age of 45.8 vs 52.8.\n",
    "    - Were significantly higher at defaulting in the 30-59 days, 60-89 days, and in the 90 day past due limit.\n",
    "    - Had a lower monthly income.\n",
    "    - Had more dependents. "
   ]
  },
  {
   "cell_type": "code",
   "execution_count": 282,
   "metadata": {},
   "outputs": [
    {
     "data": {
      "text/html": [
       "<div>\n",
       "<style scoped>\n",
       "    .dataframe tbody tr th:only-of-type {\n",
       "        vertical-align: middle;\n",
       "    }\n",
       "\n",
       "    .dataframe tbody tr th {\n",
       "        vertical-align: top;\n",
       "    }\n",
       "\n",
       "    .dataframe thead th {\n",
       "        text-align: right;\n",
       "    }\n",
       "</style>\n",
       "<table border=\"1\" class=\"dataframe\">\n",
       "  <thead>\n",
       "    <tr style=\"text-align: right;\">\n",
       "      <th>SeriousDlqin2yrs</th>\n",
       "      <th>0</th>\n",
       "      <th>1</th>\n",
       "    </tr>\n",
       "    <tr>\n",
       "      <th>NumberOfTimes90DaysLate</th>\n",
       "      <th></th>\n",
       "      <th></th>\n",
       "    </tr>\n",
       "  </thead>\n",
       "  <tbody>\n",
       "    <tr>\n",
       "      <th>0</th>\n",
       "      <td>33292</td>\n",
       "      <td>4294</td>\n",
       "    </tr>\n",
       "    <tr>\n",
       "      <th>1</th>\n",
       "      <td>800</td>\n",
       "      <td>1178</td>\n",
       "    </tr>\n",
       "    <tr>\n",
       "      <th>2</th>\n",
       "      <td>164</td>\n",
       "      <td>531</td>\n",
       "    </tr>\n",
       "    <tr>\n",
       "      <th>3</th>\n",
       "      <td>64</td>\n",
       "      <td>265</td>\n",
       "    </tr>\n",
       "    <tr>\n",
       "      <th>4</th>\n",
       "      <td>30</td>\n",
       "      <td>120</td>\n",
       "    </tr>\n",
       "    <tr>\n",
       "      <th>5</th>\n",
       "      <td>8</td>\n",
       "      <td>55</td>\n",
       "    </tr>\n",
       "    <tr>\n",
       "      <th>6</th>\n",
       "      <td>8</td>\n",
       "      <td>33</td>\n",
       "    </tr>\n",
       "    <tr>\n",
       "      <th>7</th>\n",
       "      <td>2</td>\n",
       "      <td>22</td>\n",
       "    </tr>\n",
       "    <tr>\n",
       "      <th>8</th>\n",
       "      <td>2</td>\n",
       "      <td>9</td>\n",
       "    </tr>\n",
       "    <tr>\n",
       "      <th>9</th>\n",
       "      <td>3</td>\n",
       "      <td>8</td>\n",
       "    </tr>\n",
       "    <tr>\n",
       "      <th>10</th>\n",
       "      <td>0</td>\n",
       "      <td>4</td>\n",
       "    </tr>\n",
       "    <tr>\n",
       "      <th>11</th>\n",
       "      <td>1</td>\n",
       "      <td>1</td>\n",
       "    </tr>\n",
       "    <tr>\n",
       "      <th>12</th>\n",
       "      <td>1</td>\n",
       "      <td>1</td>\n",
       "    </tr>\n",
       "    <tr>\n",
       "      <th>13</th>\n",
       "      <td>1</td>\n",
       "      <td>2</td>\n",
       "    </tr>\n",
       "    <tr>\n",
       "      <th>14</th>\n",
       "      <td>0</td>\n",
       "      <td>1</td>\n",
       "    </tr>\n",
       "    <tr>\n",
       "      <th>15</th>\n",
       "      <td>1</td>\n",
       "      <td>0</td>\n",
       "    </tr>\n",
       "    <tr>\n",
       "      <th>17</th>\n",
       "      <td>0</td>\n",
       "      <td>1</td>\n",
       "    </tr>\n",
       "    <tr>\n",
       "      <th>96</th>\n",
       "      <td>0</td>\n",
       "      <td>2</td>\n",
       "    </tr>\n",
       "    <tr>\n",
       "      <th>98</th>\n",
       "      <td>19</td>\n",
       "      <td>93</td>\n",
       "    </tr>\n",
       "  </tbody>\n",
       "</table>\n",
       "</div>"
      ],
      "text/plain": [
       "SeriousDlqin2yrs             0     1\n",
       "NumberOfTimes90DaysLate             \n",
       "0                        33292  4294\n",
       "1                          800  1178\n",
       "2                          164   531\n",
       "3                           64   265\n",
       "4                           30   120\n",
       "5                            8    55\n",
       "6                            8    33\n",
       "7                            2    22\n",
       "8                            2     9\n",
       "9                            3     8\n",
       "10                           0     4\n",
       "11                           1     1\n",
       "12                           1     1\n",
       "13                           1     2\n",
       "14                           0     1\n",
       "15                           1     0\n",
       "17                           0     1\n",
       "96                           0     2\n",
       "98                          19    93"
      ]
     },
     "execution_count": 282,
     "metadata": {},
     "output_type": "execute_result"
    }
   ],
   "source": [
    "pd.crosstab(df.NumberOfTimes90DaysLate, df.SeriousDlqin2yrs)\n",
    "# inspired by DataGotham repo"
   ]
  },
  {
   "cell_type": "code",
   "execution_count": 260,
   "metadata": {},
   "outputs": [
    {
     "data": {
      "text/plain": [
       "SeriousDlqin2yrs                           0\n",
       "RevolvingUtilizationOfUnsecuredLines       0\n",
       "age                                        0\n",
       "zipcode                                    0\n",
       "NumberOfTime30-59DaysPastDueNotWorse       0\n",
       "DebtRatio                                  0\n",
       "MonthlyIncome                           7974\n",
       "NumberOfOpenCreditLinesAndLoans            0\n",
       "NumberOfTimes90DaysLate                    0\n",
       "NumberRealEstateLoansOrLines               0\n",
       "NumberOfTime60-89DaysPastDueNotWorse       0\n",
       "NumberOfDependents                      1037\n",
       "dtype: int64"
      ]
     },
     "execution_count": 260,
     "metadata": {},
     "output_type": "execute_result"
    }
   ],
   "source": [
    "df.isnull().sum()"
   ]
  },
  {
   "cell_type": "code",
   "execution_count": 261,
   "metadata": {},
   "outputs": [
    {
     "data": {
      "text/plain": [
       "0.0     23503\n",
       "1.0      7211\n",
       "2.0      5539\n",
       "3.0      2666\n",
       "4.0       786\n",
       "5.0       201\n",
       "6.0        51\n",
       "7.0        12\n",
       "8.0         7\n",
       "9.0         2\n",
       "13.0        1\n",
       "Name: NumberOfDependents, dtype: int64"
      ]
     },
     "execution_count": 261,
     "metadata": {},
     "output_type": "execute_result"
    }
   ],
   "source": [
    "df.NumberOfDependents.value_counts()"
   ]
  },
  {
   "cell_type": "code",
   "execution_count": 262,
   "metadata": {},
   "outputs": [],
   "source": [
    "def draw_correlation_matrix (df, title):\n",
    "    '''\n",
    "    Creates a heatmap that shows the correlations between the different variables in a dataframe.\n",
    "    \n",
    "    Input:\n",
    "        df: a dataframe\n",
    "        title: name of the correlation_matrix\n",
    "        \n",
    "    Return:\n",
    "        Outputs a heatmatrix showing correlations\n",
    "    \n",
    "    Code based on: https://stackoverflow.com/questions/29432629/correlation-matrix-using-pandas\n",
    "    '''\n",
    "    ax = plt.axes()\n",
    "    corr = df.corr()\n",
    "    sns.heatmap(corr, \n",
    "                xticklabels=corr.columns.values,\n",
    "                yticklabels=corr.columns.values, ax = ax) \n",
    "    ax.set_title (title)"
   ]
  },
  {
   "cell_type": "code",
   "execution_count": 263,
   "metadata": {},
   "outputs": [
    {
     "data": {
      "image/png": "[encoded data removed]",
      "text/plain": [
       "<matplotlib.figure.Figure at 0x113a53ba8>"
      ]
     },
     "metadata": {},
     "output_type": "display_data"
    }
   ],
   "source": [
    "draw_correlation_matrix(df, 'Correlations Between Variables')"
   ]
  },
  {
   "cell_type": "markdown",
   "metadata": {},
   "source": [
    "Obvious high correlation between being late past payment with 30-59 days and with 90 days and beyond. "
   ]
  },
  {
   "cell_type": "code",
   "execution_count": 264,
   "metadata": {},
   "outputs": [],
   "source": [
    "def plotting_curves (dataframe, column, title):\n",
    "    '''\n",
    "    Given a dataframe, a column name, and a title,\n",
    "        displays a plot of that dataframe column distribution.\n",
    "        \n",
    "    Input:\n",
    "        dataframe\n",
    "        column: column name (string)\n",
    "        title: string\n",
    "        \n",
    "    Return:\n",
    "        displays a distribution of that variable\n",
    "        \n",
    "    Inspired by:\n",
    "        https://seaborn.pydata.org/generated/seaborn.distplot.html\n",
    "    '''\n",
    "    ax = sns.distplot(dataframe[column])\n",
    "    ax.set_title(title)\n",
    "    "
   ]
  },
  {
   "cell_type": "code",
   "execution_count": 265,
   "metadata": {},
   "outputs": [],
   "source": [
    "list_of_columns = df.columns.tolist()"
   ]
  },
  {
   "cell_type": "code",
   "execution_count": 266,
   "metadata": {},
   "outputs": [],
   "source": [
    "df = df.fillna(df.mean())"
   ]
  },
  {
   "cell_type": "code",
   "execution_count": 267,
   "metadata": {},
   "outputs": [
    {
     "data": {
      "image/png": "[encoded data removed]",
      "text/plain": [
       "<matplotlib.figure.Figure at 0x113c64fd0>"
      ]
     },
     "metadata": {},
     "output_type": "display_data"
    },
    {
     "data": {
      "image/png": "[encoded data removed]",
      "text/plain": [
       "<matplotlib.figure.Figure at 0x11380dc18>"
      ]
     },
     "metadata": {},
     "output_type": "display_data"
    },
    {
     "data": {
      "image/png": "[encoded data removed]",
      "text/plain": [
       "<matplotlib.figure.Figure at 0x1140b6b70>"
      ]
     },
     "metadata": {},
     "output_type": "display_data"
    },
    {
     "data": {
      "image/png": "[encoded data removed]",
      "text/plain": [
       "<matplotlib.figure.Figure at 0x113aa7eb8>"
      ]
     },
     "metadata": {},
     "output_type": "display_data"
    },
    {
     "data": {
      "image/png": "[encoded data removed]",
      "text/plain": [
       "<matplotlib.figure.Figure at 0x114030908>"
      ]
     },
     "metadata": {},
     "output_type": "display_data"
    },
    {
     "data": {
      "image/png": "[encoded data removed]",
      "text/plain": [
       "<matplotlib.figure.Figure at 0x112c308d0>"
      ]
     },
     "metadata": {},
     "output_type": "display_data"
    },
    {
     "data": {
      "image/png": "[encoded data removed]",
      "text/plain": [
       "<matplotlib.figure.Figure at 0x112ca1b70>"
      ]
     },
     "metadata": {},
     "output_type": "display_data"
    },
    {
     "data": {
      "image/png": "[encoded data removed]",
      "text/plain": [
       "<matplotlib.figure.Figure at 0x1124e7e10>"
      ]
     },
     "metadata": {},
     "output_type": "display_data"
    },
    {
     "data": {
      "image/png": "[encoded data removed]",
      "text/plain": [
       "<matplotlib.figure.Figure at 0x112ba6400>"
      ]
     },
     "metadata": {},
     "output_type": "display_data"
    },
    {
     "data": {
      "image/png": "[encoded data removed]",
      "text/plain": [
       "<matplotlib.figure.Figure at 0x112c32588>"
      ]
     },
     "metadata": {},
     "output_type": "display_data"
    },
    {
     "data": {
      "image/png": "[encoded data removed]",
      "text/plain": [
       "<matplotlib.figure.Figure at 0x1124314a8>"
      ]
     },
     "metadata": {},
     "output_type": "display_data"
    },
    {
     "data": {
      "image/png": "[encoded data removed]",
      "text/plain": [
       "<matplotlib.figure.Figure at 0x113fbdbe0>"
      ]
     },
     "metadata": {},
     "output_type": "display_data"
    }
   ],
   "source": [
    "for column in list_of_columns:\n",
    "    plotting_curves (df, column, column + ' graph')\n",
    "    plt.show()"
   ]
  },
  {
   "cell_type": "code",
   "execution_count": 268,
   "metadata": {},
   "outputs": [
    {
     "data": {
      "text/plain": [
       "count      5528.000000\n",
       "mean       5594.740774\n",
       "std        6518.244005\n",
       "min           0.000000\n",
       "25%        2940.000000\n",
       "50%        4500.000000\n",
       "75%        6811.750000\n",
       "max      250000.000000\n",
       "Name: MonthlyIncome, dtype: float64"
      ]
     },
     "execution_count": 268,
     "metadata": {},
     "output_type": "execute_result"
    }
   ],
   "source": [
    "positive_df.MonthlyIncome.describe()"
   ]
  },
  {
   "cell_type": "code",
   "execution_count": 269,
   "metadata": {},
   "outputs": [
    {
     "data": {
      "text/plain": [
       "count    2.751400e+04\n",
       "mean     6.776748e+03\n",
       "std      1.443532e+04\n",
       "min      0.000000e+00\n",
       "25%      3.450000e+03\n",
       "50%      5.475000e+03\n",
       "75%      8.333000e+03\n",
       "max      1.794060e+06\n",
       "Name: MonthlyIncome, dtype: float64"
      ]
     },
     "execution_count": 269,
     "metadata": {},
     "output_type": "execute_result"
    }
   ],
   "source": [
    "negative_df.MonthlyIncome.describe()"
   ]
  },
  {
   "cell_type": "markdown",
   "metadata": {},
   "source": [
    "### PRE-PROCESSING DATA"
   ]
  },
  {
   "cell_type": "code",
   "execution_count": 270,
   "metadata": {},
   "outputs": [
    {
     "data": {
      "text/plain": [
       "SeriousDlqin2yrs                        0\n",
       "RevolvingUtilizationOfUnsecuredLines    0\n",
       "age                                     0\n",
       "zipcode                                 0\n",
       "NumberOfTime30-59DaysPastDueNotWorse    0\n",
       "DebtRatio                               0\n",
       "MonthlyIncome                           0\n",
       "NumberOfOpenCreditLinesAndLoans         0\n",
       "NumberOfTimes90DaysLate                 0\n",
       "NumberRealEstateLoansOrLines            0\n",
       "NumberOfTime60-89DaysPastDueNotWorse    0\n",
       "NumberOfDependents                      0\n",
       "dtype: int64"
      ]
     },
     "execution_count": 270,
     "metadata": {},
     "output_type": "execute_result"
    }
   ],
   "source": [
    "df.isnull().sum()\n",
    "# Have already put in mean for NaN above"
   ]
  },
  {
   "cell_type": "markdown",
   "metadata": {},
   "source": [
    "### GENERATING FEATURES/PREDICTORS"
   ]
  },
  {
   "cell_type": "code",
   "execution_count": 271,
   "metadata": {},
   "outputs": [],
   "source": [
    "def discretizing_variable (dataframe, column, bin_):\n",
    "    '''\n",
    "    For a given dataframe and a column,\n",
    "    this function arranges the column into bins depending on the lower and upper bound.\n",
    "    Then it arranges each individual into the given bin, and then it gives a value of 1\n",
    "    for each person that is in a given bin.\n",
    "    \n",
    "    Input:\n",
    "        dataframe\n",
    "        column: string\n",
    "        bin_ : integer\n",
    "        \n",
    "    Return: \n",
    "        a dataframe\n",
    "        \n",
    "    Inspired by:\n",
    "    https://pandas.pydata.org/pandas-docs/stable/generated/pandas.cut.html\n",
    "    https://pandas.pydata.org/pandas-docs/stable/generated/pandas.get_dummies.html\n",
    "    '''\n",
    "    upper_bound = dataframe.max()\n",
    "    lower_bound = dataframe.min()\n",
    "    \n",
    "    bins = np.arange (lower_bound, upper_bound + bin_, bin_)\n",
    "    \n",
    "    data = pd.cut (dataframe, bins)\n",
    "    \n",
    "    return pd.get_dummies (data, prefix = column)\n"
   ]
  },
  {
   "cell_type": "code",
   "execution_count": 272,
   "metadata": {},
   "outputs": [],
   "source": [
    "categorical_age = discretizing_variable(df[\"age\"],\"age_dummy\",10)\n",
    "categorical_zipcode = pd.get_dummies(df[\"zipcode\"])\n",
    "\n",
    "\n",
    "# https://pandas.pydata.org/pandas-docs/stable/generated/pandas.concat.html\n",
    "new_df = pd.concat([df,categorical_age, categorical_zipcode], axis = 1)"
   ]
  },
  {
   "cell_type": "code",
   "execution_count": 273,
   "metadata": {},
   "outputs": [],
   "source": [
    "X = df.drop(['SeriousDlqin2yrs'], 1)\n",
    "Y = df['SeriousDlqin2yrs']\n",
    "X_train, X_test, Y_train, Y_test = cross_validation.train_test_split(X, Y, test_size=0.2)\n",
    "\n",
    "# data is different from df\n",
    "# df was all of the csv file\n",
    "# data is only the training data\n",
    "data = X_train.join(Y_train)"
   ]
  },
  {
   "cell_type": "code",
   "execution_count": 274,
   "metadata": {},
   "outputs": [
    {
     "data": {
      "text/plain": [
       "(32812, 12)"
      ]
     },
     "execution_count": 274,
     "metadata": {},
     "output_type": "execute_result"
    }
   ],
   "source": [
    "data.shape"
   ]
  },
  {
   "cell_type": "code",
   "execution_count": 275,
   "metadata": {
    "collapsed": true
   },
   "outputs": [],
   "source": [
    "categorical_zipcode = pd.get_dummies(X_test[\"zipcode\"])\n",
    "categorical_age = get_discrete_var(X_test[\"age\"],\"age_dummy\",10)\n",
    "X_test = pd.concat([X_test,categorical_zipcode,categorical_age], axis = 1)"
   ]
  },
  {
   "cell_type": "markdown",
   "metadata": {},
   "source": [
    "### BUILDING A CLASSIFIER"
   ]
  },
  {
   "cell_type": "code",
   "execution_count": 276,
   "metadata": {
    "collapsed": true
   },
   "outputs": [],
   "source": [
    "def log_regression(X_train, Y_train, predictors):\n",
    "    '''\n",
    "    Given the training X and Y data, fits for logistic regression.\n",
    "    \n",
    "    Input:\n",
    "        X_train: dataframe\n",
    "        Y_train: dataframe\n",
    "        \n",
    "    Return:\n",
    "        fitted model with logistic regression\n",
    "    '''\n",
    "    model = LogisticRegression(penalty = 'l0', C = 1)\n",
    "    return model.fit(X_train[features], y_train)"
   ]
  },
  {
   "cell_type": "code",
   "execution_count": 283,
   "metadata": {
    "collapsed": true
   },
   "outputs": [],
   "source": [
    "def find_best_k_features(X_train,Y_train, num_of_k):\n",
    "    '''\n",
    "    Given the training sets, gives the best num_of_k predictors. \n",
    "    \n",
    "    http://scikit-learn.org/stable/modules/generated/sklearn.feature_selection.SelectKBest.html\n",
    "    '''\n",
    "    selector = SelectKBest(f_classif, k=num_of_k)\n",
    "    best_k = selector.fit(X_train, Y_train)\n",
    "\n",
    "    best_k = best_k.get_support() \n",
    "    \n",
    "    new_predictors = [] \n",
    "    for bool, feature in zip(best_k, X_train.columns.values.tolist()):\n",
    "        if bool:\n",
    "            new_predictors.append(feature)\n",
    "    return new_predictors"
   ]
  },
  {
   "cell_type": "code",
   "execution_count": 284,
   "metadata": {},
   "outputs": [],
   "source": [
    "top_10_predictors = find_best_k_features(X_train,Y_train, 10)"
   ]
  },
  {
   "cell_type": "code",
   "execution_count": 285,
   "metadata": {},
   "outputs": [],
   "source": [
    "model_top10 = log_reg(X_train,Y_train, top_10_predictors)"
   ]
  },
  {
   "cell_type": "markdown",
   "metadata": {},
   "source": [
    "### EVALUATING CLASSFIER"
   ]
  },
  {
   "cell_type": "code",
   "execution_count": 286,
   "metadata": {
    "collapsed": true
   },
   "outputs": [],
   "source": [
    "def base_rate_model(X):\n",
    "    '''\n",
    "    # https://docs.scipy.org/doc/numpy-1.13.0/reference/generated/numpy.zeros.html\n",
    "    '''\n",
    "    Y = np.zeros(X.shape[0])\n",
    "    return Y"
   ]
  },
  {
   "cell_type": "code",
   "execution_count": 287,
   "metadata": {},
   "outputs": [
    {
     "name": "stdout",
     "output_type": "stream",
     "text": [
      "Base case accuracy =  0.8394685519258898\n",
      "Model accuracy with top 10 predictors =  0.840809361287177\n"
     ]
    }
   ],
   "source": [
    "Y_base_rate = base_rate_model(X_test)\n",
    "print(\"Base case accuracy = \",accuracy_score(Y_test, Y_base_rate))\n",
    "\n",
    "Y_pred_top10 = model_top10.predict(X_test[top_10_predictors])\n",
    "print(\"Model accuracy with top 10 predictors = \", accuracy_score(Y_test, Y_pred_top10))"
   ]
  }
 ],
 "metadata": {
  "kernelspec": {
   "display_name": "Python 3",
   "language": "python",
   "name": "python3"
  },
  "language_info": {
   "codemirror_mode": {
    "name": "ipython",
    "version": 3
   },
   "file_extension": ".py",
   "mimetype": "text/x-python",
   "name": "python",
   "nbconvert_exporter": "python",
   "pygments_lexer": "ipython3",
   "version": "3.6.3"
  }
 },
 "nbformat": 4,
 "nbformat_minor": 2
}
